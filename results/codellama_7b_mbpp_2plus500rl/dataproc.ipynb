{
 "cells": [
  {
   "cell_type": "code",
   "execution_count": 21,
   "id": "a4d91dd4",
   "metadata": {},
   "outputs": [
    {
     "name": "stdout",
     "output_type": "stream",
     "text": [
      "def count_Num(n): \n",
      "    \"\"\"\n",
      "    Write a python function to count numbers whose oth and nth bits are set.\n",
      "    assert count_Num(2) == 1\n",
      "    \"\"\"\n",
      "    # Your code here\n",
      "    count = 0\n",
      "    while n:\n",
      "        if n & 1:\n",
      "            count += 1\n",
      "        n >>= 1\n",
      "    return count\n",
      "\n",
      "\n"
     ]
    }
   ],
   "source": [
    "import json\n",
    "\n",
    "# File path\n",
    "file_path = '/data/zzl/CodeFast/results/codellama_7b_mbpp_baseline/generations.json'\n",
    "\n",
    "# Read the JSON file\n",
    "with open(file_path, 'r') as file:\n",
    "    data = json.load(file)\n",
    "\n",
    "# Display the data\n",
    "print(data[200][0])"
   ]
  }
 ],
 "metadata": {
  "kernelspec": {
   "display_name": "base",
   "language": "python",
   "name": "python3"
  },
  "language_info": {
   "codemirror_mode": {
    "name": "ipython",
    "version": 3
   },
   "file_extension": ".py",
   "mimetype": "text/x-python",
   "name": "python",
   "nbconvert_exporter": "python",
   "pygments_lexer": "ipython3",
   "version": "undefined.undefined.undefined"
  }
 },
 "nbformat": 4,
 "nbformat_minor": 5
}
